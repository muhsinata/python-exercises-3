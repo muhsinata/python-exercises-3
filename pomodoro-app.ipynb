{
 "cells": [
  {
   "cell_type": "code",
   "execution_count": 68,
   "metadata": {},
   "outputs": [],
   "source": [
    "from tkinter import *"
   ]
  },
  {
   "cell_type": "code",
   "execution_count": 69,
   "metadata": {},
   "outputs": [],
   "source": [
    "PINK = \"#e2979c\"\n",
    "RED = \"#e7305b\"\n",
    "GREEN = \"#9bdeac\"\n",
    "YELLOW = \"#f7f5dd\"\n",
    "FONT_NAME = \"Courier\"\n",
    "WORK_MIN = 25\n",
    "SHORT_BREAK_MIN = 5\n",
    "LONG_BREAK_MIN = 20"
   ]
  },
  {
   "cell_type": "code",
   "execution_count": 70,
   "metadata": {},
   "outputs": [],
   "source": [
    "window = Tk()\n",
    "window.title(\"Pomodoro\")\n",
    "window.config(padx=100, pady=50, bg=YELLOW)"
   ]
  },
  {
   "cell_type": "code",
   "execution_count": 71,
   "metadata": {},
   "outputs": [],
   "source": [
    "title_label = Label(text=\"Timer\", fg=GREEN, bg=YELLOW, font=(FONT_NAME, 50))\n",
    "title_label.grid(column=1, row=0)"
   ]
  },
  {
   "cell_type": "code",
   "execution_count": 72,
   "metadata": {},
   "outputs": [],
   "source": [
    "canvas = Canvas(width=200, height=224, bg=YELLOW, highlightthickness=0)\n",
    "tomato_img = PhotoImage(file=\"images/tomato.png\")\n",
    "canvas.create_image(100, 112, image=tomato_img)\n",
    "canvas.create_text(100, 130, text=\"00:00\", fill=\"white\", font=(FONT_NAME, 35, \"bold\"))\n",
    "canvas.grid(column=1, row=1)"
   ]
  },
  {
   "cell_type": "code",
   "execution_count": 73,
   "metadata": {},
   "outputs": [],
   "source": [
    "start_button = Button(text=\"Start\", highlightthickness=0)\n",
    "start_button.grid(column=0, row=2)\n",
    "\n",
    "reset_button = Button(text=\"Reset\", highlightthickness=0)\n",
    "reset_button.grid(column=2, row=2)"
   ]
  },
  {
   "cell_type": "code",
   "execution_count": 74,
   "metadata": {},
   "outputs": [],
   "source": [
    "check_marks = Label(text=\"✔\", fg=GREEN, bg=YELLOW)\n",
    "check_marks.grid(column=1, row=3)"
   ]
  },
  {
   "cell_type": "code",
   "execution_count": 75,
   "metadata": {},
   "outputs": [],
   "source": [
    "window.mainloop()"
   ]
  }
 ],
 "metadata": {
  "kernelspec": {
   "display_name": "Python 3.10.5 64-bit",
   "language": "python",
   "name": "python3"
  },
  "language_info": {
   "codemirror_mode": {
    "name": "ipython",
    "version": 3
   },
   "file_extension": ".py",
   "mimetype": "text/x-python",
   "name": "python",
   "nbconvert_exporter": "python",
   "pygments_lexer": "ipython3",
   "version": "3.10.5"
  },
  "orig_nbformat": 4,
  "vscode": {
   "interpreter": {
    "hash": "de66d7802e14fb2e8694b63e255d0fe3514f0a531cbbfb87d1ecc51a74f4db4d"
   }
  }
 },
 "nbformat": 4,
 "nbformat_minor": 2
}
